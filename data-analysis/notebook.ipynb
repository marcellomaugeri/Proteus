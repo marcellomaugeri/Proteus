{
 "cells": [
  {
   "cell_type": "markdown",
   "metadata": {},
   "source": [
    "# Quant track\n"
   ]
  },
  {
   "cell_type": "markdown",
   "metadata": {},
   "source": [
    "### How to use:\n",
    "- Create a virtual environment (tested on Python 3.12.7)\n",
    "- Run the notebook (this will install all the requirements)"
   ]
  },
  {
   "cell_type": "code",
   "execution_count": 1,
   "metadata": {},
   "outputs": [
    {
     "name": "stdout",
     "output_type": "stream",
     "text": [
      "Requirement already satisfied: pandas==2.2.3 in /Users/marcellomaugeri/Documents/Proteus/.venv/lib/python3.12/site-packages (from -r requirements.txt (line 1)) (2.2.3)\n",
      "Requirement already satisfied: scipy==1.14.1 in /Users/marcellomaugeri/Documents/Proteus/.venv/lib/python3.12/site-packages (from -r requirements.txt (line 2)) (1.14.1)\n",
      "Collecting scikit-learn==1.5.2 (from -r requirements.txt (line 3))\n",
      "  Downloading scikit_learn-1.5.2-cp312-cp312-macosx_12_0_arm64.whl.metadata (13 kB)\n",
      "Requirement already satisfied: numpy>=1.26.0 in /Users/marcellomaugeri/Documents/Proteus/.venv/lib/python3.12/site-packages (from pandas==2.2.3->-r requirements.txt (line 1)) (2.1.2)\n",
      "Requirement already satisfied: python-dateutil>=2.8.2 in /Users/marcellomaugeri/Documents/Proteus/.venv/lib/python3.12/site-packages (from pandas==2.2.3->-r requirements.txt (line 1)) (2.9.0.post0)\n",
      "Requirement already satisfied: pytz>=2020.1 in /Users/marcellomaugeri/Documents/Proteus/.venv/lib/python3.12/site-packages (from pandas==2.2.3->-r requirements.txt (line 1)) (2024.2)\n",
      "Requirement already satisfied: tzdata>=2022.7 in /Users/marcellomaugeri/Documents/Proteus/.venv/lib/python3.12/site-packages (from pandas==2.2.3->-r requirements.txt (line 1)) (2024.2)\n",
      "Collecting joblib>=1.2.0 (from scikit-learn==1.5.2->-r requirements.txt (line 3))\n",
      "  Downloading joblib-1.4.2-py3-none-any.whl.metadata (5.4 kB)\n",
      "Collecting threadpoolctl>=3.1.0 (from scikit-learn==1.5.2->-r requirements.txt (line 3))\n",
      "  Downloading threadpoolctl-3.5.0-py3-none-any.whl.metadata (13 kB)\n",
      "Requirement already satisfied: six>=1.5 in /Users/marcellomaugeri/Documents/Proteus/.venv/lib/python3.12/site-packages (from python-dateutil>=2.8.2->pandas==2.2.3->-r requirements.txt (line 1)) (1.16.0)\n",
      "Downloading scikit_learn-1.5.2-cp312-cp312-macosx_12_0_arm64.whl (11.0 MB)\n",
      "\u001b[2K   \u001b[90m━━━━━━━━━━━━━━━━━━━━━━━━━━━━━━━━━━━━━━━━\u001b[0m \u001b[32m11.0/11.0 MB\u001b[0m \u001b[31m3.6 MB/s\u001b[0m eta \u001b[36m0:00:00\u001b[0ma \u001b[36m0:00:01\u001b[0m\n",
      "\u001b[?25hDownloading joblib-1.4.2-py3-none-any.whl (301 kB)\n",
      "Downloading threadpoolctl-3.5.0-py3-none-any.whl (18 kB)\n",
      "Installing collected packages: threadpoolctl, joblib, scikit-learn\n",
      "Successfully installed joblib-1.4.2 scikit-learn-1.5.2 threadpoolctl-3.5.0\n"
     ]
    }
   ],
   "source": [
    "#Requirements\n",
    "!pip install -r requirements.txt"
   ]
  },
  {
   "cell_type": "code",
   "execution_count": 2,
   "metadata": {},
   "outputs": [],
   "source": [
    "#Imports\n",
    "import pandas as pd\n",
    "import os"
   ]
  },
  {
   "cell_type": "code",
   "execution_count": 4,
   "metadata": {},
   "outputs": [
    {
     "name": "stdout",
     "output_type": "stream",
     "text": [
      "        timestamp  liquidityRate_avg  variableBorrowRate_avg  \\\n",
      "0      1726956000           0.015056                0.020055   \n",
      "1      1726959600           0.023990                0.031854   \n",
      "2      1726963200           0.014803                0.019608   \n",
      "3      1726966800           0.016902                0.022262   \n",
      "4      1726970400           0.014856                0.019768   \n",
      "...           ...                ...                     ...   \n",
      "13831  1728223200           0.000314                0.013196   \n",
      "13832  1728226800           0.000110                0.004627   \n",
      "13833  1728230400           0.000110                0.004627   \n",
      "13834  1728234000           0.000110                0.004627   \n",
      "13835  1728237600           0.000110                0.004627   \n",
      "\n",
      "       utilizationRate_avg  stableBorrowRate_avg      chain currency  \n",
      "0                 0.878280                     0   optimism     WETH  \n",
      "1                 0.878118                     0   optimism     WETH  \n",
      "2                 0.878965                     0   optimism     WETH  \n",
      "3                 0.880024                     0   optimism     WETH  \n",
      "4                 0.880061                     0   optimism     WETH  \n",
      "...                    ...                   ...        ...      ...  \n",
      "13831             0.021102                     0  avalanche     LINK  \n",
      "13832             0.021103                     0  avalanche     LINK  \n",
      "13833             0.021103                     0  avalanche     LINK  \n",
      "13834             0.021103                     0  avalanche     LINK  \n",
      "13835             0.021103                     0  avalanche     LINK  \n",
      "\n",
      "[13836 rows x 7 columns]\n"
     ]
    }
   ],
   "source": [
    "def process_data(dataset_path):\n",
    "  \"\"\"\n",
    "  Processes lending data from a directory structure where folders represent chains and CSV files within each folder represent currencies.\n",
    "\n",
    "  Args:\n",
    "    dataset_path: The path to the root directory of the dataset. (default: ./dataset)\n",
    "\n",
    "  Returns:\n",
    "    A dataframe with columns: timestamp, liquidityRate_avg, variableBorrowRate_avg, utilizationRate_avg, stableBorrowRate_avg, \n",
    "  \"\"\"\n",
    "\n",
    "  all_data = []\n",
    "  for chain in os.listdir(dataset_path):\n",
    "    chain_path = os.path.join(dataset_path, chain)\n",
    "    if os.path.isdir(chain_path):\n",
    "      for filename in os.listdir(chain_path):\n",
    "        if filename.endswith(\".csv\"):\n",
    "          currency = filename[:-4]  # Remove '.csv' extension\n",
    "          filepath = os.path.join(chain_path, filename)\n",
    "          df = pd.read_csv(filepath)\n",
    "          if df.empty: #Check if empty\n",
    "            continue\n",
    "          df['chain'] = chain  # Add chain column\n",
    "          df['currency'] = currency  # Add currency column\n",
    "          all_data.append(df)\n",
    "\n",
    "  return pd.concat(all_data, ignore_index=True)\n",
    "\n",
    "dataset_path = \"./dataset\"  \n",
    "df = process_data(dataset_path)\n",
    "print(df)\n",
    "\n",
    "# Export to a file for further analysis\n",
    "df.to_csv(\"data.csv\")"
   ]
  },
  {
   "cell_type": "code",
   "execution_count": 12,
   "metadata": {},
   "outputs": [
    {
     "ename": "AttributeError",
     "evalue": "'DataFrame' object has no attribute 'shuffle'",
     "output_type": "error",
     "traceback": [
      "\u001b[0;31m---------------------------------------------------------------------------\u001b[0m",
      "\u001b[0;31mAttributeError\u001b[0m                            Traceback (most recent call last)",
      "\u001b[0;32m/var/folders/ch/f52gc87d5_7b95m4hg7qfbj80000gn/T/ipykernel_32496/952235073.py\u001b[0m in \u001b[0;36m?\u001b[0;34m()\u001b[0m\n\u001b[1;32m      1\u001b[0m \u001b[0mdataset_path\u001b[0m \u001b[0;34m=\u001b[0m \u001b[0;34m\"./dataset\"\u001b[0m\u001b[0;34m\u001b[0m\u001b[0;34m\u001b[0m\u001b[0m\n\u001b[1;32m      2\u001b[0m \u001b[0mdf\u001b[0m \u001b[0;34m=\u001b[0m \u001b[0mprocess_data\u001b[0m\u001b[0;34m(\u001b[0m\u001b[0mdataset_path\u001b[0m\u001b[0;34m)\u001b[0m\u001b[0;34m\u001b[0m\u001b[0;34m\u001b[0m\u001b[0m\n\u001b[0;32m----> 3\u001b[0;31m \u001b[0mprint\u001b[0m\u001b[0;34m(\u001b[0m\u001b[0mdf\u001b[0m\u001b[0;34m.\u001b[0m\u001b[0mshuffle\u001b[0m\u001b[0;34m(\u001b[0m\u001b[0;34m)\u001b[0m\u001b[0;34m.\u001b[0m\u001b[0mhead\u001b[0m\u001b[0;34m(\u001b[0m\u001b[0;34m)\u001b[0m\u001b[0;34m)\u001b[0m\u001b[0;34m\u001b[0m\u001b[0;34m\u001b[0m\u001b[0m\n\u001b[0m",
      "\u001b[0;32m~/Documents/Proteus/.venv/lib/python3.12/site-packages/pandas/core/generic.py\u001b[0m in \u001b[0;36m?\u001b[0;34m(self, name)\u001b[0m\n\u001b[1;32m   6295\u001b[0m             \u001b[0;32mand\u001b[0m \u001b[0mname\u001b[0m \u001b[0;32mnot\u001b[0m \u001b[0;32min\u001b[0m \u001b[0mself\u001b[0m\u001b[0;34m.\u001b[0m\u001b[0m_accessors\u001b[0m\u001b[0;34m\u001b[0m\u001b[0;34m\u001b[0m\u001b[0m\n\u001b[1;32m   6296\u001b[0m             \u001b[0;32mand\u001b[0m \u001b[0mself\u001b[0m\u001b[0;34m.\u001b[0m\u001b[0m_info_axis\u001b[0m\u001b[0;34m.\u001b[0m\u001b[0m_can_hold_identifiers_and_holds_name\u001b[0m\u001b[0;34m(\u001b[0m\u001b[0mname\u001b[0m\u001b[0;34m)\u001b[0m\u001b[0;34m\u001b[0m\u001b[0;34m\u001b[0m\u001b[0m\n\u001b[1;32m   6297\u001b[0m         \u001b[0;34m)\u001b[0m\u001b[0;34m:\u001b[0m\u001b[0;34m\u001b[0m\u001b[0;34m\u001b[0m\u001b[0m\n\u001b[1;32m   6298\u001b[0m             \u001b[0;32mreturn\u001b[0m \u001b[0mself\u001b[0m\u001b[0;34m[\u001b[0m\u001b[0mname\u001b[0m\u001b[0;34m]\u001b[0m\u001b[0;34m\u001b[0m\u001b[0;34m\u001b[0m\u001b[0m\n\u001b[0;32m-> 6299\u001b[0;31m         \u001b[0;32mreturn\u001b[0m \u001b[0mobject\u001b[0m\u001b[0;34m.\u001b[0m\u001b[0m__getattribute__\u001b[0m\u001b[0;34m(\u001b[0m\u001b[0mself\u001b[0m\u001b[0;34m,\u001b[0m \u001b[0mname\u001b[0m\u001b[0;34m)\u001b[0m\u001b[0;34m\u001b[0m\u001b[0;34m\u001b[0m\u001b[0m\n\u001b[0m",
      "\u001b[0;31mAttributeError\u001b[0m: 'DataFrame' object has no attribute 'shuffle'"
     ]
    }
   ],
   "source": []
  }
 ],
 "metadata": {
  "kernelspec": {
   "display_name": ".venv",
   "language": "python",
   "name": "python3"
  },
  "language_info": {
   "codemirror_mode": {
    "name": "ipython",
    "version": 3
   },
   "file_extension": ".py",
   "mimetype": "text/x-python",
   "name": "python",
   "nbconvert_exporter": "python",
   "pygments_lexer": "ipython3",
   "version": "3.12.7"
  }
 },
 "nbformat": 4,
 "nbformat_minor": 2
}
