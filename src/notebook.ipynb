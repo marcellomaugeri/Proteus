{
 "cells": [
  {
   "cell_type": "markdown",
   "metadata": {},
   "source": [
    "# Quant track\n"
   ]
  },
  {
   "cell_type": "markdown",
   "metadata": {},
   "source": [
    "### How to use:\n",
    "- Create a virtual environment (tested on Python 3.11)\n",
    "- Run the notebook (this will install all the requirements)"
   ]
  },
  {
   "cell_type": "code",
   "execution_count": 120,
   "metadata": {},
   "outputs": [
    {
     "name": "stdout",
     "output_type": "stream",
     "text": [
      "Requirement already satisfied: pandas==2.2.3 in /Users/marcellomaugeri/Documents/Proteus/.venv/lib/python3.12/site-packages (from -r requirements.txt (line 1)) (2.2.3)\n",
      "Requirement already satisfied: scipy==1.14.1 in /Users/marcellomaugeri/Documents/Proteus/.venv/lib/python3.12/site-packages (from -r requirements.txt (line 2)) (1.14.1)\n",
      "Requirement already satisfied: scikit-learn==1.5.2 in /Users/marcellomaugeri/Documents/Proteus/.venv/lib/python3.12/site-packages (from -r requirements.txt (line 3)) (1.5.2)\n",
      "Requirement already satisfied: web3-ethereum-defi in /Users/marcellomaugeri/Documents/Proteus/.venv/lib/python3.12/site-packages (from -r requirements.txt (line 4)) (0.26.1)\n",
      "Requirement already satisfied: web3 in /Users/marcellomaugeri/Documents/Proteus/.venv/lib/python3.12/site-packages (from -r requirements.txt (line 5)) (6.14.0)\n",
      "Collecting pycoingecko (from -r requirements.txt (line 6))\n",
      "  Downloading pycoingecko-3.1.0-py3-none-any.whl.metadata (12 kB)\n",
      "Requirement already satisfied: numpy>=1.26.0 in /Users/marcellomaugeri/Documents/Proteus/.venv/lib/python3.12/site-packages (from pandas==2.2.3->-r requirements.txt (line 1)) (2.1.2)\n",
      "Requirement already satisfied: python-dateutil>=2.8.2 in /Users/marcellomaugeri/Documents/Proteus/.venv/lib/python3.12/site-packages (from pandas==2.2.3->-r requirements.txt (line 1)) (2.9.0.post0)\n",
      "Requirement already satisfied: pytz>=2020.1 in /Users/marcellomaugeri/Documents/Proteus/.venv/lib/python3.12/site-packages (from pandas==2.2.3->-r requirements.txt (line 1)) (2024.2)\n",
      "Requirement already satisfied: tzdata>=2022.7 in /Users/marcellomaugeri/Documents/Proteus/.venv/lib/python3.12/site-packages (from pandas==2.2.3->-r requirements.txt (line 1)) (2024.2)\n",
      "Requirement already satisfied: joblib>=1.2.0 in /Users/marcellomaugeri/Documents/Proteus/.venv/lib/python3.12/site-packages (from scikit-learn==1.5.2->-r requirements.txt (line 3)) (1.4.2)\n",
      "Requirement already satisfied: threadpoolctl>=3.1.0 in /Users/marcellomaugeri/Documents/Proteus/.venv/lib/python3.12/site-packages (from scikit-learn==1.5.2->-r requirements.txt (line 3)) (3.5.0)\n",
      "Requirement already satisfied: cachetools<=6,>=4 in /Users/marcellomaugeri/Documents/Proteus/.venv/lib/python3.12/site-packages (from web3-ethereum-defi->-r requirements.txt (line 4)) (5.5.0)\n",
      "Requirement already satisfied: eth-bloom<3.0.0,>=2.0.0 in /Users/marcellomaugeri/Documents/Proteus/.venv/lib/python3.12/site-packages (from web3-ethereum-defi->-r requirements.txt (line 4)) (2.0.0)\n",
      "Requirement already satisfied: evm-trace<0.2.0,>=0.1.0a17 in /Users/marcellomaugeri/Documents/Proteus/.venv/lib/python3.12/site-packages (from web3-ethereum-defi->-r requirements.txt (line 4)) (0.1.3)\n",
      "Requirement already satisfied: futureproof<0.4.0,>=0.3.1 in /Users/marcellomaugeri/Documents/Proteus/.venv/lib/python3.12/site-packages (from web3-ethereum-defi->-r requirements.txt (line 4)) (0.3.1)\n",
      "Requirement already satisfied: psutil<6.0.0,>=5.9.0 in /Users/marcellomaugeri/Documents/Proteus/.venv/lib/python3.12/site-packages (from web3-ethereum-defi->-r requirements.txt (line 4)) (5.9.8)\n",
      "Requirement already satisfied: setuptools<=70,>=64.0.2 in /Users/marcellomaugeri/Documents/Proteus/.venv/lib/python3.12/site-packages (from web3-ethereum-defi->-r requirements.txt (line 4)) (70.0.0)\n",
      "Requirement already satisfied: sigfig<2.0.0,>=1.3.2 in /Users/marcellomaugeri/Documents/Proteus/.venv/lib/python3.12/site-packages (from web3-ethereum-defi->-r requirements.txt (line 4)) (1.3.16)\n",
      "Requirement already satisfied: sphinxcontrib-applehelp==1.0.4 in /Users/marcellomaugeri/Documents/Proteus/.venv/lib/python3.12/site-packages (from web3-ethereum-defi->-r requirements.txt (line 4)) (1.0.4)\n",
      "Requirement already satisfied: sphinxcontrib-devhelp==1.0.2 in /Users/marcellomaugeri/Documents/Proteus/.venv/lib/python3.12/site-packages (from web3-ethereum-defi->-r requirements.txt (line 4)) (1.0.2)\n",
      "Requirement already satisfied: sphinxcontrib-htmlhelp==2.0.1 in /Users/marcellomaugeri/Documents/Proteus/.venv/lib/python3.12/site-packages (from web3-ethereum-defi->-r requirements.txt (line 4)) (2.0.1)\n",
      "Requirement already satisfied: sphinxcontrib-qthelp==1.0.3 in /Users/marcellomaugeri/Documents/Proteus/.venv/lib/python3.12/site-packages (from web3-ethereum-defi->-r requirements.txt (line 4)) (1.0.3)\n",
      "Requirement already satisfied: sphinxcontrib-serializinghtml==1.1.5 in /Users/marcellomaugeri/Documents/Proteus/.venv/lib/python3.12/site-packages (from web3-ethereum-defi->-r requirements.txt (line 4)) (1.1.5)\n",
      "Requirement already satisfied: tqdm-loggable>=0.1.3 in /Users/marcellomaugeri/Documents/Proteus/.venv/lib/python3.12/site-packages (from web3-ethereum-defi->-r requirements.txt (line 4)) (0.2)\n",
      "Requirement already satisfied: ujson>=5.8.0 in /Users/marcellomaugeri/Documents/Proteus/.venv/lib/python3.12/site-packages (from web3-ethereum-defi->-r requirements.txt (line 4)) (5.10.0)\n",
      "Requirement already satisfied: urllib3<2 in /Users/marcellomaugeri/Documents/Proteus/.venv/lib/python3.12/site-packages (from web3-ethereum-defi->-r requirements.txt (line 4)) (1.26.20)\n",
      "Requirement already satisfied: aiohttp>=3.7.4.post0 in /Users/marcellomaugeri/Documents/Proteus/.venv/lib/python3.12/site-packages (from web3->-r requirements.txt (line 5)) (3.10.10)\n",
      "Requirement already satisfied: eth-abi>=4.0.0 in /Users/marcellomaugeri/Documents/Proteus/.venv/lib/python3.12/site-packages (from web3->-r requirements.txt (line 5)) (5.1.0)\n",
      "Requirement already satisfied: eth-account>=0.8.0 in /Users/marcellomaugeri/Documents/Proteus/.venv/lib/python3.12/site-packages (from web3->-r requirements.txt (line 5)) (0.11.3)\n",
      "Requirement already satisfied: eth-hash>=0.5.1 in /Users/marcellomaugeri/Documents/Proteus/.venv/lib/python3.12/site-packages (from eth-hash[pycryptodome]>=0.5.1->web3->-r requirements.txt (line 5)) (0.7.0)\n",
      "Requirement already satisfied: eth-typing>=3.0.0 in /Users/marcellomaugeri/Documents/Proteus/.venv/lib/python3.12/site-packages (from web3->-r requirements.txt (line 5)) (3.5.2)\n",
      "Requirement already satisfied: eth-utils>=2.1.0 in /Users/marcellomaugeri/Documents/Proteus/.venv/lib/python3.12/site-packages (from web3->-r requirements.txt (line 5)) (2.3.2)\n",
      "Requirement already satisfied: hexbytes<0.4.0,>=0.1.0 in /Users/marcellomaugeri/Documents/Proteus/.venv/lib/python3.12/site-packages (from web3->-r requirements.txt (line 5)) (0.3.1)\n",
      "Requirement already satisfied: jsonschema>=4.0.0 in /Users/marcellomaugeri/Documents/Proteus/.venv/lib/python3.12/site-packages (from web3->-r requirements.txt (line 5)) (4.23.0)\n",
      "Requirement already satisfied: lru-dict<1.3.0,>=1.1.6 in /Users/marcellomaugeri/Documents/Proteus/.venv/lib/python3.12/site-packages (from web3->-r requirements.txt (line 5)) (1.2.0)\n",
      "Requirement already satisfied: protobuf>=4.21.6 in /Users/marcellomaugeri/Documents/Proteus/.venv/lib/python3.12/site-packages (from web3->-r requirements.txt (line 5)) (5.28.3)\n",
      "Requirement already satisfied: requests>=2.16.0 in /Users/marcellomaugeri/Documents/Proteus/.venv/lib/python3.12/site-packages (from web3->-r requirements.txt (line 5)) (2.32.3)\n",
      "Requirement already satisfied: typing-extensions>=4.0.1 in /Users/marcellomaugeri/Documents/Proteus/.venv/lib/python3.12/site-packages (from web3->-r requirements.txt (line 5)) (4.12.2)\n",
      "Requirement already satisfied: websockets>=10.0.0 in /Users/marcellomaugeri/Documents/Proteus/.venv/lib/python3.12/site-packages (from web3->-r requirements.txt (line 5)) (13.1)\n",
      "Requirement already satisfied: pyunormalize>=15.0.0 in /Users/marcellomaugeri/Documents/Proteus/.venv/lib/python3.12/site-packages (from web3->-r requirements.txt (line 5)) (16.0.0)\n",
      "Requirement already satisfied: eth-tester==v0.9.1-b.1 in /Users/marcellomaugeri/Documents/Proteus/.venv/lib/python3.12/site-packages (from eth-tester[py-evm]==v0.9.1-b.1; extra == \"tester\"->web3[tester]==6.14.0->web3-ethereum-defi->-r requirements.txt (line 4)) (0.9.1b1)\n",
      "Requirement already satisfied: py-geth>=3.11.0 in /Users/marcellomaugeri/Documents/Proteus/.venv/lib/python3.12/site-packages (from web3[tester]==6.14.0->web3-ethereum-defi->-r requirements.txt (line 4)) (5.0.0)\n",
      "Requirement already satisfied: eth-keys<0.5.0,>=0.4.0 in /Users/marcellomaugeri/Documents/Proteus/.venv/lib/python3.12/site-packages (from eth-tester==v0.9.1-b.1->eth-tester[py-evm]==v0.9.1-b.1; extra == \"tester\"->web3[tester]==6.14.0->web3-ethereum-defi->-r requirements.txt (line 4)) (0.4.0)\n",
      "Requirement already satisfied: rlp<4,>=3.0.0 in /Users/marcellomaugeri/Documents/Proteus/.venv/lib/python3.12/site-packages (from eth-tester==v0.9.1-b.1->eth-tester[py-evm]==v0.9.1-b.1; extra == \"tester\"->web3[tester]==6.14.0->web3-ethereum-defi->-r requirements.txt (line 4)) (3.0.0)\n",
      "Requirement already satisfied: semantic-version<3.0.0,>=2.6.0 in /Users/marcellomaugeri/Documents/Proteus/.venv/lib/python3.12/site-packages (from eth-tester==v0.9.1-b.1->eth-tester[py-evm]==v0.9.1-b.1; extra == \"tester\"->web3[tester]==6.14.0->web3-ethereum-defi->-r requirements.txt (line 4)) (2.10.0)\n",
      "Requirement already satisfied: py-evm==0.7.0a4 in /Users/marcellomaugeri/Documents/Proteus/.venv/lib/python3.12/site-packages (from eth-tester[py-evm]==v0.9.1-b.1; extra == \"tester\"->web3[tester]==6.14.0->web3-ethereum-defi->-r requirements.txt (line 4)) (0.7.0a4)\n",
      "Requirement already satisfied: cached-property<2,>=1.5.1 in /Users/marcellomaugeri/Documents/Proteus/.venv/lib/python3.12/site-packages (from py-evm==0.7.0a4->eth-tester[py-evm]==v0.9.1-b.1; extra == \"tester\"->web3[tester]==6.14.0->web3-ethereum-defi->-r requirements.txt (line 4)) (1.5.2)\n",
      "Requirement already satisfied: mypy-extensions>=1.0.0 in /Users/marcellomaugeri/Documents/Proteus/.venv/lib/python3.12/site-packages (from py-evm==0.7.0a4->eth-tester[py-evm]==v0.9.1-b.1; extra == \"tester\"->web3[tester]==6.14.0->web3-ethereum-defi->-r requirements.txt (line 4)) (1.0.0)\n",
      "Requirement already satisfied: py-ecc<7.0.0,>=1.4.7 in /Users/marcellomaugeri/Documents/Proteus/.venv/lib/python3.12/site-packages (from py-evm==0.7.0a4->eth-tester[py-evm]==v0.9.1-b.1; extra == \"tester\"->web3[tester]==6.14.0->web3-ethereum-defi->-r requirements.txt (line 4)) (6.0.0)\n",
      "Requirement already satisfied: pyethash<1.0.0,>=0.1.27 in /Users/marcellomaugeri/Documents/Proteus/.venv/lib/python3.12/site-packages (from py-evm==0.7.0a4->eth-tester[py-evm]==v0.9.1-b.1; extra == \"tester\"->web3[tester]==6.14.0->web3-ethereum-defi->-r requirements.txt (line 4)) (0.1.27)\n",
      "Requirement already satisfied: trie<3,>=2.0.0 in /Users/marcellomaugeri/Documents/Proteus/.venv/lib/python3.12/site-packages (from py-evm==0.7.0a4->eth-tester[py-evm]==v0.9.1-b.1; extra == \"tester\"->web3[tester]==6.14.0->web3-ethereum-defi->-r requirements.txt (line 4)) (2.2.0)\n",
      "Requirement already satisfied: aiohappyeyeballs>=2.3.0 in /Users/marcellomaugeri/Documents/Proteus/.venv/lib/python3.12/site-packages (from aiohttp>=3.7.4.post0->web3->-r requirements.txt (line 5)) (2.4.3)\n",
      "Requirement already satisfied: aiosignal>=1.1.2 in /Users/marcellomaugeri/Documents/Proteus/.venv/lib/python3.12/site-packages (from aiohttp>=3.7.4.post0->web3->-r requirements.txt (line 5)) (1.3.1)\n",
      "Requirement already satisfied: attrs>=17.3.0 in /Users/marcellomaugeri/Documents/Proteus/.venv/lib/python3.12/site-packages (from aiohttp>=3.7.4.post0->web3->-r requirements.txt (line 5)) (24.2.0)\n",
      "Requirement already satisfied: frozenlist>=1.1.1 in /Users/marcellomaugeri/Documents/Proteus/.venv/lib/python3.12/site-packages (from aiohttp>=3.7.4.post0->web3->-r requirements.txt (line 5)) (1.5.0)\n",
      "Requirement already satisfied: multidict<7.0,>=4.5 in /Users/marcellomaugeri/Documents/Proteus/.venv/lib/python3.12/site-packages (from aiohttp>=3.7.4.post0->web3->-r requirements.txt (line 5)) (6.1.0)\n",
      "Requirement already satisfied: yarl<2.0,>=1.12.0 in /Users/marcellomaugeri/Documents/Proteus/.venv/lib/python3.12/site-packages (from aiohttp>=3.7.4.post0->web3->-r requirements.txt (line 5)) (1.16.0)\n",
      "Requirement already satisfied: parsimonious<0.11.0,>=0.10.0 in /Users/marcellomaugeri/Documents/Proteus/.venv/lib/python3.12/site-packages (from eth-abi>=4.0.0->web3->-r requirements.txt (line 5)) (0.10.0)\n",
      "Requirement already satisfied: bitarray>=2.4.0 in /Users/marcellomaugeri/Documents/Proteus/.venv/lib/python3.12/site-packages (from eth-account>=0.8.0->web3->-r requirements.txt (line 5)) (3.0.0)\n",
      "Requirement already satisfied: eth-keyfile>=0.6.0 in /Users/marcellomaugeri/Documents/Proteus/.venv/lib/python3.12/site-packages (from eth-account>=0.8.0->web3->-r requirements.txt (line 5)) (0.8.1)\n",
      "Requirement already satisfied: eth-rlp>=0.3.0 in /Users/marcellomaugeri/Documents/Proteus/.venv/lib/python3.12/site-packages (from eth-account>=0.8.0->web3->-r requirements.txt (line 5)) (1.0.1)\n",
      "Requirement already satisfied: ckzg<2,>=0.4.3 in /Users/marcellomaugeri/Documents/Proteus/.venv/lib/python3.12/site-packages (from eth-account>=0.8.0->web3->-r requirements.txt (line 5)) (1.0.2)\n",
      "Requirement already satisfied: pycryptodome<4,>=3.6.6 in /Users/marcellomaugeri/Documents/Proteus/.venv/lib/python3.12/site-packages (from eth-hash[pycryptodome]>=0.5.1->web3->-r requirements.txt (line 5)) (3.21.0)\n",
      "Requirement already satisfied: cytoolz>=0.10.1 in /Users/marcellomaugeri/Documents/Proteus/.venv/lib/python3.12/site-packages (from eth-utils>=2.1.0->web3->-r requirements.txt (line 5)) (1.0.0)\n",
      "Requirement already satisfied: pydantic<3,>=2.5.2 in /Users/marcellomaugeri/Documents/Proteus/.venv/lib/python3.12/site-packages (from evm-trace<0.2.0,>=0.1.0a17->web3-ethereum-defi->-r requirements.txt (line 4)) (2.9.2)\n",
      "Requirement already satisfied: msgspec>=0.8 in /Users/marcellomaugeri/Documents/Proteus/.venv/lib/python3.12/site-packages (from evm-trace<0.2.0,>=0.1.0a17->web3-ethereum-defi->-r requirements.txt (line 4)) (0.18.6)\n",
      "Requirement already satisfied: eth-pydantic-types>=0.1.0a5 in /Users/marcellomaugeri/Documents/Proteus/.venv/lib/python3.12/site-packages (from evm-trace<0.2.0,>=0.1.0a17->web3-ethereum-defi->-r requirements.txt (line 4)) (0.1.3)\n",
      "Requirement already satisfied: jsonschema-specifications>=2023.03.6 in /Users/marcellomaugeri/Documents/Proteus/.venv/lib/python3.12/site-packages (from jsonschema>=4.0.0->web3->-r requirements.txt (line 5)) (2024.10.1)\n",
      "Requirement already satisfied: referencing>=0.28.4 in /Users/marcellomaugeri/Documents/Proteus/.venv/lib/python3.12/site-packages (from jsonschema>=4.0.0->web3->-r requirements.txt (line 5)) (0.35.1)\n",
      "Requirement already satisfied: rpds-py>=0.7.1 in /Users/marcellomaugeri/Documents/Proteus/.venv/lib/python3.12/site-packages (from jsonschema>=4.0.0->web3->-r requirements.txt (line 5)) (0.20.0)\n",
      "Requirement already satisfied: six>=1.5 in /Users/marcellomaugeri/Documents/Proteus/.venv/lib/python3.12/site-packages (from python-dateutil>=2.8.2->pandas==2.2.3->-r requirements.txt (line 1)) (1.16.0)\n",
      "Requirement already satisfied: charset-normalizer<4,>=2 in /Users/marcellomaugeri/Documents/Proteus/.venv/lib/python3.12/site-packages (from requests>=2.16.0->web3->-r requirements.txt (line 5)) (3.4.0)\n",
      "Requirement already satisfied: idna<4,>=2.5 in /Users/marcellomaugeri/Documents/Proteus/.venv/lib/python3.12/site-packages (from requests>=2.16.0->web3->-r requirements.txt (line 5)) (3.10)\n",
      "Requirement already satisfied: certifi>=2017.4.17 in /Users/marcellomaugeri/Documents/Proteus/.venv/lib/python3.12/site-packages (from requests>=2.16.0->web3->-r requirements.txt (line 5)) (2024.8.30)\n",
      "Requirement already satisfied: sortedcontainers<3.0.0,>=2.4.0 in /Users/marcellomaugeri/Documents/Proteus/.venv/lib/python3.12/site-packages (from sigfig<2.0.0,>=1.3.2->web3-ethereum-defi->-r requirements.txt (line 4)) (2.4.0)\n",
      "Requirement already satisfied: tqdm>4.64 in /Users/marcellomaugeri/Documents/Proteus/.venv/lib/python3.12/site-packages (from tqdm-loggable>=0.1.3->web3-ethereum-defi->-r requirements.txt (line 4)) (4.66.5)\n",
      "Requirement already satisfied: toolz>=0.8.0 in /Users/marcellomaugeri/Documents/Proteus/.venv/lib/python3.12/site-packages (from cytoolz>=0.10.1->eth-utils>=2.1.0->web3->-r requirements.txt (line 5)) (1.0.0)\n",
      "Requirement already satisfied: regex>=2022.3.15 in /Users/marcellomaugeri/Documents/Proteus/.venv/lib/python3.12/site-packages (from parsimonious<0.11.0,>=0.10.0->eth-abi>=4.0.0->web3->-r requirements.txt (line 5)) (2024.9.11)\n",
      "Requirement already satisfied: types-requests>=2.0.0 in /Users/marcellomaugeri/Documents/Proteus/.venv/lib/python3.12/site-packages (from py-geth>=3.11.0->web3[tester]==6.14.0->web3-ethereum-defi->-r requirements.txt (line 4)) (2.31.0.6)\n",
      "Requirement already satisfied: annotated-types>=0.6.0 in /Users/marcellomaugeri/Documents/Proteus/.venv/lib/python3.12/site-packages (from pydantic<3,>=2.5.2->evm-trace<0.2.0,>=0.1.0a17->web3-ethereum-defi->-r requirements.txt (line 4)) (0.7.0)\n",
      "Requirement already satisfied: pydantic-core==2.23.4 in /Users/marcellomaugeri/Documents/Proteus/.venv/lib/python3.12/site-packages (from pydantic<3,>=2.5.2->evm-trace<0.2.0,>=0.1.0a17->web3-ethereum-defi->-r requirements.txt (line 4)) (2.23.4)\n",
      "Requirement already satisfied: propcache>=0.2.0 in /Users/marcellomaugeri/Documents/Proteus/.venv/lib/python3.12/site-packages (from yarl<2.0,>=1.12.0->aiohttp>=3.7.4.post0->web3->-r requirements.txt (line 5)) (0.2.0)\n",
      "Requirement already satisfied: safe-pysha3>=1.0.0 in /Users/marcellomaugeri/Documents/Proteus/.venv/lib/python3.12/site-packages (from eth-hash[pysha3]<1.0.0,>=0.1.4; implementation_name == \"cpython\" and extra == \"py-evm\"->eth-tester[py-evm]==v0.9.1-b.1; extra == \"tester\"->web3[tester]==6.14.0->web3-ethereum-defi->-r requirements.txt (line 4)) (1.0.4)\n",
      "Requirement already satisfied: types-urllib3 in /Users/marcellomaugeri/Documents/Proteus/.venv/lib/python3.12/site-packages (from types-requests>=2.0.0->py-geth>=3.11.0->web3[tester]==6.14.0->web3-ethereum-defi->-r requirements.txt (line 4)) (1.26.25.14)\n",
      "Downloading pycoingecko-3.1.0-py3-none-any.whl (8.8 kB)\n",
      "Installing collected packages: pycoingecko\n",
      "Successfully installed pycoingecko-3.1.0\n"
     ]
    }
   ],
   "source": [
    "#Requirements\n",
    "!pip install -r requirements.txt"
   ]
  },
  {
   "cell_type": "code",
   "execution_count": 121,
   "metadata": {},
   "outputs": [],
   "source": [
    "#Imports for data analysis\n",
    "import pandas as pd\n",
    "import os\n",
    "\n",
    "#Imports for Aave data fetching\n",
    "#from web3 import Web3, HTTPProvider\n",
    "#from eth_defi.aave_v3.constants import aave_v3_get_json_rpc_url, aave_v3_get_network_by_chain_id\n",
    "#from eth_defi.event_reader.fast_json_rpc import patch_web3\n",
    "#from eth_defi.aave_v3.events import aave_v3_fetch_events_to_csv\n",
    "#from eth_defi.event_reader.json_state import JSONFileScanState\n",
    "\n",
    "#Imports for currency values\n",
    "from pycoingecko import CoinGeckoAPI\n",
    "import datetime\n",
    "\n",
    "#Imports for backtesting"
   ]
  },
  {
   "cell_type": "markdown",
   "metadata": {},
   "source": [
    "In this notebook we are gonna analyse Aave V3 in the Polygon network for USDC, USDT, DAI and WMATIC.\n",
    "\n",
    "For demonstrating the strategy, we will only query the first 32_000_000 blocks.\n",
    "\n",
    "Note that a Polygon node is required. A free node can be obtained in [Infura](https://www.infura.io/).\n",
    "The free API has a rate limiter, so it could take a while to download all the blocks."
   ]
  },
  {
   "cell_type": "code",
   "execution_count": 129,
   "metadata": {},
   "outputs": [
    {
     "name": "stdout",
     "output_type": "stream",
     "text": [
      "       timestamp  liquidityRate_avg  variableBorrowRate_avg  \\\n",
      "0     1726956000           0.021312                0.041170   \n",
      "1     1726959600           0.021569                0.041595   \n",
      "2     1726963200           0.021865                0.040993   \n",
      "3     1726966800           0.021463                0.041480   \n",
      "4     1726970400           0.021175                0.041833   \n",
      "...          ...                ...                     ...   \n",
      "1078  1728237600           0.059027                0.085799   \n",
      "1079  1728241200           0.058570                0.085373   \n",
      "1080  1728244800           0.057261                0.083723   \n",
      "1081  1728248400           0.051088                0.074406   \n",
      "1082  1728252000           0.049641                0.072082   \n",
      "\n",
      "      utilizationRate_avg  stableBorrowRate_avg    chain currency  \n",
      "0                0.612311                     0  polygon    SUSHI  \n",
      "1                0.612347                     0  polygon    SUSHI  \n",
      "2                0.612519                     0  polygon    SUSHI  \n",
      "3                0.612528                     0  polygon    SUSHI  \n",
      "4                0.612612                     0  polygon    SUSHI  \n",
      "...                   ...                   ...      ...      ...  \n",
      "1078             1.162660                     0  polygon      DAI  \n",
      "1079             1.162605                     0  polygon      DAI  \n",
      "1080             1.162136                     0  polygon      DAI  \n",
      "1081             1.159635                     0  polygon      DAI  \n",
      "1082             1.159012                     0  polygon      DAI  \n",
      "\n",
      "[1083 rows x 7 columns]\n"
     ]
    }
   ],
   "source": [
    "def process_data(dataset_path):\n",
    "  \"\"\"\n",
    "  Processes lending data from a directory structure where folders represent chains and CSV files within each folder represent currencies.\n",
    "\n",
    "  Args:\n",
    "    dataset_path: The path to the root directory of the dataset. (default: ./dataset)\n",
    "\n",
    "  Returns:\n",
    "    A dataframe with columns: timestamp, liquidityRate_avg, variableBorrowRate_avg, utilizationRate_avg, stableBorrowRate_avg, \n",
    "  \"\"\"\n",
    "  chains = ['polygon']\n",
    "  currencies = ['USDT', 'DAI', 'SUSHI']\n",
    "  all_data = []\n",
    "  for chain in chains:\n",
    "    chain_path = os.path.join(dataset_path, chain)\n",
    "    if os.path.isdir(chain_path):\n",
    "      for filename in os.listdir(chain_path):\n",
    "        if filename.startswith(tuple(currencies)) and filename.endswith(\".csv\"):\n",
    "          currency = filename[:-4]  # Remove '.csv' extension\n",
    "          filepath = os.path.join(chain_path, filename)\n",
    "          df = pd.read_csv(filepath)\n",
    "          if df.empty: #Check if empty\n",
    "            continue\n",
    "          df['chain'] = chain  # Add chain column\n",
    "          df['currency'] = currency  # Add currency column\n",
    "          all_data.append(df)\n",
    "\n",
    "  return pd.concat(all_data, ignore_index=True)\n",
    "\n",
    "dataset_path = \"./dataset\"  \n",
    "df = process_data(dataset_path)\n",
    "\n",
    "# Sort values by timestap\n",
    "df.sort_values('timestamp')\n",
    "\n",
    "print(df)\n",
    "\n",
    "#Calculating the spread\n",
    "df['variableSpread_avg'] = df['variableBorrowRate_avg']\n",
    "\n",
    "\n",
    "\n",
    "# Export to a file for further analysis\n",
    "df.to_csv(\"data.csv\")"
   ]
  },
  {
   "cell_type": "code",
   "execution_count": 116,
   "metadata": {},
   "outputs": [
    {
     "name": "stdout",
     "output_type": "stream",
     "text": [
      "Detected network Polygon chain 137 start block 25826028 max block 33000000\n"
     ]
    }
   ],
   "source": [
    "json_rpc_url = aave_v3_get_json_rpc_url() or input(\"Please enter your JSON-RPC URL here\")\n",
    "web3 = Web3(HTTPProvider(json_rpc_url))\n",
    "\n",
    "aave_network = aave_v3_get_network_by_chain_id(web3.eth.chain_id)\n",
    "\n",
    "# Up to the current block\n",
    "#max_block = web3.eth.block_number\n",
    "max_block = 32_000_000 + 1_000_000\n",
    "\n",
    "print(f'Detected network {aave_network.name } chain {web3.eth.chain_id} start block {aave_network.pool_created_at_block} max block {max_block}')"
   ]
  },
  {
   "cell_type": "code",
   "execution_count": 119,
   "metadata": {},
   "outputs": [
    {
     "name": "stdout",
     "output_type": "stream",
     "text": [
      "No previous scan done, starting fresh from block 32,000,000, total 1,000,000 blocks\n",
      "Scanning block range 32,000,000 - 33,000,000\n"
     ]
    },
    {
     "name": "stderr",
     "output_type": "stream",
     "text": [
      "  0%|          | 0/1000000 [00:00<?, ?it/s]\n"
     ]
    },
    {
     "ename": "RuntimeError",
     "evalue": "Could not decode {'address': '0x794a61358d6845594f94dc1db02a252b5b4814ad', 'blockHash': '0x8f9b2598b217244ab22aaaca69e4f60e0df29412c5c9a633259d2827c91900de', 'blockNumber': 32000002, 'data': '0x00000000000000000000000000000000000000000068ffe8966d9878f758d60b0000000000000000000000000000000000000000004a723dc6b40b8a9a00000000000000000000000000000000000000000000000108b447db9909de9af2909e00000000000000000000000000000000000000000342660ddf04ec3bcde3dde000000000000000000000000000000000000000000351a847f11d50b2dcfed4a9', 'logIndex': '0xac', 'removed': False, 'topics': ['0x804c9b842b2748a22bb64b345453a3de7ca54a6ca45ce00d415894979e22897a', '0x0000000000000000000000000d500b1d8e8ef31e21c99d1db9a6444d3adf1270'], 'transactionHash': '0x7aa75b8f03bf19ff47b771db83a24f66bf6c3d1f008294475ca897db244a9af8', 'transactionIndex': '0x2d', 'context': <eth_defi.aave_v3.events.TokenCache object at 0x37ebc6900>, 'event': <class 'web3._utils.datatypes.ReserveDataUpdated'>, 'chunk_id': 32000000, 'timestamp': None}",
     "output_type": "error",
     "traceback": [
      "\u001b[0;31m---------------------------------------------------------------------------\u001b[0m",
      "\u001b[0;31mTypeError\u001b[0m                                 Traceback (most recent call last)",
      "File \u001b[0;32m~/Documents/Proteus/.venv/lib/python3.12/site-packages/eth_defi/aave_v3/events.py:349\u001b[0m, in \u001b[0;36m_fetch_aave_events_to_csv\u001b[0;34m(json_rpc_url, state, aave_network_name, start_block, end_block, output_folder, max_workers, log_info, reorg_monitor, aave_version)\u001b[0m\n\u001b[1;32m    348\u001b[0m decode_function \u001b[38;5;241m=\u001b[39m event_mapping[event_name][\u001b[38;5;124m\"\u001b[39m\u001b[38;5;124mdecode_function\u001b[39m\u001b[38;5;124m\"\u001b[39m]\n\u001b[0;32m--> 349\u001b[0m decoded_result \u001b[38;5;241m=\u001b[39m \u001b[43mdecode_function\u001b[49m\u001b[43m(\u001b[49m\u001b[43maave_network_name\u001b[49m\u001b[43m,\u001b[49m\u001b[43m \u001b[49m\u001b[43mlog_result\u001b[49m\u001b[43m,\u001b[49m\u001b[43m \u001b[49m\u001b[43maave_version\u001b[49m\u001b[43m)\u001b[49m\n\u001b[1;32m    350\u001b[0m \u001b[38;5;66;03m# Note: decoded_result is None if the event is e.g. from Aave v2 contract\u001b[39;00m\n",
      "File \u001b[0;32m~/Documents/Proteus/.venv/lib/python3.12/site-packages/eth_defi/aave_v3/events.py:139\u001b[0m, in \u001b[0;36mdecode_reserve_data_updated\u001b[0;34m(aave_network_name, log, aave_version)\u001b[0m\n\u001b[1;32m    136\u001b[0m \u001b[38;5;66;03m# Do additional lookup for the token data\u001b[39;00m\n\u001b[1;32m    137\u001b[0m \u001b[38;5;66;03m# web3 = log[\"event\"].web3\u001b[39;00m\n\u001b[1;32m    138\u001b[0m \u001b[38;5;66;03m# token_cache: TokenCache = log[\"context\"]\u001b[39;00m\n\u001b[0;32m--> 139\u001b[0m result \u001b[38;5;241m=\u001b[39m \u001b[43m_decode_base\u001b[49m\u001b[43m(\u001b[49m\u001b[43mlog\u001b[49m\u001b[43m)\u001b[49m\n\u001b[1;32m    141\u001b[0m \u001b[38;5;66;03m# Any indexed Solidity event parameter will be in topics data.\u001b[39;00m\n\u001b[1;32m    142\u001b[0m \u001b[38;5;66;03m# The first topics (0) is always the event signature.\u001b[39;00m\n",
      "File \u001b[0;32m~/Documents/Proteus/.venv/lib/python3.12/site-packages/eth_defi/aave_v3/events.py:92\u001b[0m, in \u001b[0;36m_decode_base\u001b[0;34m(log)\u001b[0m\n\u001b[1;32m     91\u001b[0m \u001b[38;5;28;01mdef\u001b[39;00m \u001b[38;5;21m_decode_base\u001b[39m(log: LogResult) \u001b[38;5;241m-\u001b[39m\u001b[38;5;241m>\u001b[39m \u001b[38;5;28mdict\u001b[39m:\n\u001b[0;32m---> 92\u001b[0m     block_time \u001b[38;5;241m=\u001b[39m \u001b[43mdatetime\u001b[49m\u001b[38;5;241;43m.\u001b[39;49m\u001b[43mdatetime\u001b[49m\u001b[38;5;241;43m.\u001b[39;49m\u001b[43mutcfromtimestamp\u001b[49m\u001b[43m(\u001b[49m\u001b[43mlog\u001b[49m\u001b[43m[\u001b[49m\u001b[38;5;124;43m\"\u001b[39;49m\u001b[38;5;124;43mtimestamp\u001b[39;49m\u001b[38;5;124;43m\"\u001b[39;49m\u001b[43m]\u001b[49m\u001b[43m)\u001b[49m\n\u001b[1;32m     94\u001b[0m     \u001b[38;5;28;01mreturn\u001b[39;00m {\n\u001b[1;32m     95\u001b[0m         \u001b[38;5;124m\"\u001b[39m\u001b[38;5;124mblock_number\u001b[39m\u001b[38;5;124m\"\u001b[39m: convert_jsonrpc_value_to_int(log[\u001b[38;5;124m\"\u001b[39m\u001b[38;5;124mblockNumber\u001b[39m\u001b[38;5;124m\"\u001b[39m]),\n\u001b[1;32m     96\u001b[0m         \u001b[38;5;124m\"\u001b[39m\u001b[38;5;124mtimestamp\u001b[39m\u001b[38;5;124m\"\u001b[39m: block_time\u001b[38;5;241m.\u001b[39misoformat(),\n\u001b[1;32m     97\u001b[0m         \u001b[38;5;124m\"\u001b[39m\u001b[38;5;124mtx_hash\u001b[39m\u001b[38;5;124m\"\u001b[39m: log[\u001b[38;5;124m\"\u001b[39m\u001b[38;5;124mtransactionHash\u001b[39m\u001b[38;5;124m\"\u001b[39m],\n\u001b[1;32m     98\u001b[0m         \u001b[38;5;124m\"\u001b[39m\u001b[38;5;124mlog_index\u001b[39m\u001b[38;5;124m\"\u001b[39m: convert_jsonrpc_value_to_int(log[\u001b[38;5;124m\"\u001b[39m\u001b[38;5;124mlogIndex\u001b[39m\u001b[38;5;124m\"\u001b[39m]),\n\u001b[1;32m     99\u001b[0m     }\n",
      "\u001b[0;31mTypeError\u001b[0m: 'NoneType' object cannot be interpreted as an integer",
      "\nThe above exception was the direct cause of the following exception:\n",
      "\u001b[0;31mRuntimeError\u001b[0m                              Traceback (most recent call last)",
      "Cell \u001b[0;32mIn[119], line 8\u001b[0m\n\u001b[1;32m      5\u001b[0m \u001b[38;5;66;03m# Stores the last block number of event data we store\u001b[39;00m\n\u001b[1;32m      6\u001b[0m state \u001b[38;5;241m=\u001b[39m JSONFileScanState(\u001b[38;5;124mf\u001b[39m\u001b[38;5;124m'\u001b[39m\u001b[38;5;124maave-v3-\u001b[39m\u001b[38;5;132;01m{\u001b[39;00maave_network\u001b[38;5;241m.\u001b[39mname\u001b[38;5;241m.\u001b[39mlower()\u001b[38;5;132;01m}\u001b[39;00m\u001b[38;5;124m-rate-scan.json\u001b[39m\u001b[38;5;124m'\u001b[39m)\n\u001b[0;32m----> 8\u001b[0m \u001b[43maave_v3_fetch_events_to_csv\u001b[49m\u001b[43m(\u001b[49m\u001b[43mjson_rpc_url\u001b[49m\u001b[43m,\u001b[49m\u001b[43m \u001b[49m\u001b[43mstate\u001b[49m\u001b[43m,\u001b[49m\u001b[43m \u001b[49m\u001b[43maave_network\u001b[49m\u001b[38;5;241;43m.\u001b[39;49m\u001b[43mname\u001b[49m\u001b[43m,\u001b[49m\u001b[43m \u001b[49m\u001b[43mstart_block\u001b[49m\u001b[38;5;241;43m=\u001b[39;49m\u001b[43mstart_block\u001b[49m\u001b[43m,\u001b[49m\u001b[43m \u001b[49m\u001b[43mend_block\u001b[49m\u001b[38;5;241;43m=\u001b[39;49m\u001b[43mend_block\u001b[49m\u001b[43m,\u001b[49m\u001b[43m \u001b[49m\u001b[43mmax_workers\u001b[49m\u001b[38;5;241;43m=\u001b[39;49m\u001b[43mmax_workers\u001b[49m\u001b[43m)\u001b[49m\n",
      "File \u001b[0;32m~/Documents/Proteus/.venv/lib/python3.12/site-packages/eth_defi/aave_v3/events.py:223\u001b[0m, in \u001b[0;36maave_v3_fetch_events_to_csv\u001b[0;34m(json_rpc_url, state, aave_network_name, start_block, end_block, output_folder, max_workers, log_info, reorg_monitor)\u001b[0m\n\u001b[1;32m    182\u001b[0m \u001b[38;5;28;01mdef\u001b[39;00m \u001b[38;5;21maave_v3_fetch_events_to_csv\u001b[39m(\n\u001b[1;32m    183\u001b[0m     json_rpc_url: \u001b[38;5;28mstr\u001b[39m,\n\u001b[1;32m    184\u001b[0m     state: ScanState,\n\u001b[0;32m   (...)\u001b[0m\n\u001b[1;32m    191\u001b[0m     reorg_monitor: ReorganisationMonitor \u001b[38;5;241m|\u001b[39m \u001b[38;5;28;01mNone\u001b[39;00m \u001b[38;5;241m=\u001b[39m \u001b[38;5;28;01mNone\u001b[39;00m,\n\u001b[1;32m    192\u001b[0m ):\n\u001b[1;32m    193\u001b[0m \u001b[38;5;250m    \u001b[39m\u001b[38;5;124;03m\"\"\"Fetch all tracked Aave v3 events to CSV files for notebook analysis.\u001b[39;00m\n\u001b[1;32m    194\u001b[0m \n\u001b[1;32m    195\u001b[0m \u001b[38;5;124;03m    Creates couple of CSV files with the event data:\u001b[39;00m\n\u001b[0;32m   (...)\u001b[0m\n\u001b[1;32m    220\u001b[0m \u001b[38;5;124;03m    :param log_info: Which function to use to output info messages about the progress\u001b[39;00m\n\u001b[1;32m    221\u001b[0m \u001b[38;5;124;03m    \"\"\"\u001b[39;00m\n\u001b[0;32m--> 223\u001b[0m     \u001b[38;5;28;01mreturn\u001b[39;00m \u001b[43m_fetch_aave_events_to_csv\u001b[49m\u001b[43m(\u001b[49m\n\u001b[1;32m    224\u001b[0m \u001b[43m        \u001b[49m\u001b[43mjson_rpc_url\u001b[49m\u001b[38;5;241;43m=\u001b[39;49m\u001b[43mjson_rpc_url\u001b[49m\u001b[43m,\u001b[49m\n\u001b[1;32m    225\u001b[0m \u001b[43m        \u001b[49m\u001b[43mstate\u001b[49m\u001b[38;5;241;43m=\u001b[39;49m\u001b[43mstate\u001b[49m\u001b[43m,\u001b[49m\n\u001b[1;32m    226\u001b[0m \u001b[43m        \u001b[49m\u001b[43maave_network_name\u001b[49m\u001b[38;5;241;43m=\u001b[39;49m\u001b[43maave_network_name\u001b[49m\u001b[43m,\u001b[49m\n\u001b[1;32m    227\u001b[0m \u001b[43m        \u001b[49m\u001b[43mstart_block\u001b[49m\u001b[38;5;241;43m=\u001b[39;49m\u001b[43mstart_block\u001b[49m\u001b[43m,\u001b[49m\n\u001b[1;32m    228\u001b[0m \u001b[43m        \u001b[49m\u001b[43mend_block\u001b[49m\u001b[38;5;241;43m=\u001b[39;49m\u001b[43mend_block\u001b[49m\u001b[43m,\u001b[49m\n\u001b[1;32m    229\u001b[0m \u001b[43m        \u001b[49m\u001b[43moutput_folder\u001b[49m\u001b[38;5;241;43m=\u001b[39;49m\u001b[43moutput_folder\u001b[49m\u001b[43m,\u001b[49m\n\u001b[1;32m    230\u001b[0m \u001b[43m        \u001b[49m\u001b[43mmax_workers\u001b[49m\u001b[38;5;241;43m=\u001b[39;49m\u001b[43mmax_workers\u001b[49m\u001b[43m,\u001b[49m\n\u001b[1;32m    231\u001b[0m \u001b[43m        \u001b[49m\u001b[43mlog_info\u001b[49m\u001b[38;5;241;43m=\u001b[39;49m\u001b[43mlog_info\u001b[49m\u001b[43m,\u001b[49m\n\u001b[1;32m    232\u001b[0m \u001b[43m        \u001b[49m\u001b[43mreorg_monitor\u001b[49m\u001b[38;5;241;43m=\u001b[39;49m\u001b[43mreorg_monitor\u001b[49m\u001b[43m,\u001b[49m\n\u001b[1;32m    233\u001b[0m \u001b[43m        \u001b[49m\u001b[43maave_version\u001b[49m\u001b[38;5;241;43m=\u001b[39;49m\u001b[43mAaveVersion\u001b[49m\u001b[38;5;241;43m.\u001b[39;49m\u001b[43mV3\u001b[49m\u001b[43m,\u001b[49m\n\u001b[1;32m    234\u001b[0m \u001b[43m    \u001b[49m\u001b[43m)\u001b[49m\n",
      "File \u001b[0;32m~/Documents/Proteus/.venv/lib/python3.12/site-packages/eth_defi/aave_v3/events.py:355\u001b[0m, in \u001b[0;36m_fetch_aave_events_to_csv\u001b[0;34m(json_rpc_url, state, aave_network_name, start_block, end_block, output_folder, max_workers, log_info, reorg_monitor, aave_version)\u001b[0m\n\u001b[1;32m    353\u001b[0m                 buffer\u001b[38;5;241m.\u001b[39mappend(decoded_result)\n\u001b[1;32m    354\u001b[0m         \u001b[38;5;28;01mexcept\u001b[39;00m \u001b[38;5;167;01mException\u001b[39;00m \u001b[38;5;28;01mas\u001b[39;00m e:\n\u001b[0;32m--> 355\u001b[0m             \u001b[38;5;28;01mraise\u001b[39;00m \u001b[38;5;167;01mRuntimeError\u001b[39;00m(\u001b[38;5;124mf\u001b[39m\u001b[38;5;124m\"\u001b[39m\u001b[38;5;124mCould not decode \u001b[39m\u001b[38;5;132;01m{\u001b[39;00mlog_result\u001b[38;5;132;01m}\u001b[39;00m\u001b[38;5;124m\"\u001b[39m) \u001b[38;5;28;01mfrom\u001b[39;00m \u001b[38;5;21;01me\u001b[39;00m\n\u001b[1;32m    357\u001b[0m \u001b[38;5;66;03m# Write remaining events, close files and print stats\u001b[39;00m\n\u001b[1;32m    358\u001b[0m \u001b[38;5;28;01mfor\u001b[39;00m event_name, buffer \u001b[38;5;129;01min\u001b[39;00m buffers\u001b[38;5;241m.\u001b[39mitems():\n",
      "\u001b[0;31mRuntimeError\u001b[0m: Could not decode {'address': '0x794a61358d6845594f94dc1db02a252b5b4814ad', 'blockHash': '0x8f9b2598b217244ab22aaaca69e4f60e0df29412c5c9a633259d2827c91900de', 'blockNumber': 32000002, 'data': '0x00000000000000000000000000000000000000000068ffe8966d9878f758d60b0000000000000000000000000000000000000000004a723dc6b40b8a9a00000000000000000000000000000000000000000000000108b447db9909de9af2909e00000000000000000000000000000000000000000342660ddf04ec3bcde3dde000000000000000000000000000000000000000000351a847f11d50b2dcfed4a9', 'logIndex': '0xac', 'removed': False, 'topics': ['0x804c9b842b2748a22bb64b345453a3de7ca54a6ca45ce00d415894979e22897a', '0x0000000000000000000000000d500b1d8e8ef31e21c99d1db9a6444d3adf1270'], 'transactionHash': '0x7aa75b8f03bf19ff47b771db83a24f66bf6c3d1f008294475ca897db244a9af8', 'transactionIndex': '0x2d', 'context': <eth_defi.aave_v3.events.TokenCache object at 0x37ebc6900>, 'event': <class 'web3._utils.datatypes.ReserveDataUpdated'>, 'chunk_id': 32000000, 'timestamp': None}"
     ]
    }
   ],
   "source": [
    "start_block = 32_000_000  # Read from creation of the Aave v3 pool\n",
    "end_block = max_block  # or Current block -> web3.eth.block_number\n",
    "max_workers = 4  # number of workers to use for parallel API request processing\n",
    "\n",
    "# Stores the last block number of event data we store\n",
    "state = JSONFileScanState(f'aave-v3-{aave_network.name.lower()}-rate-scan.json')\n",
    "\n",
    "aave_v3_fetch_events_to_csv(json_rpc_url, state, aave_network.name, start_block=start_block, end_block=end_block, max_workers=max_workers)"
   ]
  },
  {
   "cell_type": "code",
   "execution_count": 98,
   "metadata": {},
   "outputs": [
    {
     "name": "stdout",
     "output_type": "stream",
     "text": [
      "We have total 0 reserve data updates in the dataset\n"
     ]
    }
   ],
   "source": [
    "reserve_data_updated_df = pd.read_csv(f'/tmp/aave-v3-{aave_network.name.lower()}-reservedataupdated.csv')\n",
    "\n",
    "# Index the dataset by timestamp (convert to datetime objects)\n",
    "reserve_data_updated_df['timestamp'] = pd.to_datetime(reserve_data_updated_df['timestamp'])\n",
    "reserve_data_updated_df.set_index('timestamp', drop=False, inplace=True)\n",
    "\n",
    "print(f\"We have total {len(reserve_data_updated_df):,} reserve data updates in the dataset\")"
   ]
  },
  {
   "cell_type": "code",
   "execution_count": 124,
   "metadata": {},
   "outputs": [
    {
     "name": "stdout",
     "output_type": "stream",
     "text": [
      "DAI/USD Price on Polygon via Chainlink: 4104565.65874253 USD\n"
     ]
    }
   ],
   "source": [
    "# Initialize the Coingecko API client\n",
    "cg = CoinGeckoAPI()\n",
    "\n",
    "# Get current timestamp and calculate the timestamp for 30 days ago\n",
    "end_date = datetime.datetime.now()\n",
    "start_date = end_date - datetime.timedelta(days=30)\n",
    "\n",
    "# Convert to 'dd-mm-yyyy' format as required by Coingecko\n",
    "end_date_str = end_date.strftime('%d-%m-%Y')\n",
    "start_date_str = start_date.strftime('%d-%m-%Y')\n",
    "\n",
    "# Fetch historical price data for DAI (Polygon)\n",
    "dai_history = cg.get_coin_market_chart_range_by_id(\n",
    "    id='dai', \n",
    "    vs_currency='usd', \n",
    "    from_timestamp=start_date.timestamp(),\n",
    "    to_timestamp=end_date.timestamp()\n",
    ")\n",
    "\n",
    "# Extract prices and timestamps\n",
    "prices = dai_history['prices']\n",
    "\n",
    "# Display price data (time is in milliseconds, so we convert it to a human-readable format)\n",
    "for price_data in prices:\n",
    "    timestamp = price_data[0] // 1000  # Convert from milliseconds to seconds\n",
    "    price = price_data[1]\n",
    "    date = datetime.datetime.fromtimestamp(timestamp).strftime('%Y-%m-%d %H:%M:%S')\n",
    "    print(f\"Date: {date}, Price: {price} USD\")"
   ]
  },
  {
   "cell_type": "markdown",
   "metadata": {},
   "source": []
  },
  {
   "cell_type": "code",
   "execution_count": null,
   "metadata": {},
   "outputs": [],
   "source": []
  },
  {
   "cell_type": "code",
   "execution_count": 128,
   "metadata": {},
   "outputs": [
    {
     "name": "stdout",
     "output_type": "stream",
     "text": [
      "        timestamp  liquidityRate_avg  variableBorrowRate_avg  \\\n",
      "0      1726956000           0.015056                0.020055   \n",
      "1      1726959600           0.023990                0.031854   \n",
      "2      1726963200           0.014803                0.019608   \n",
      "3      1726966800           0.016902                0.022262   \n",
      "4      1726970400           0.014856                0.019768   \n",
      "...           ...                ...                     ...   \n",
      "13831  1728223200           0.000314                0.013196   \n",
      "13832  1728226800           0.000110                0.004627   \n",
      "13833  1728230400           0.000110                0.004627   \n",
      "13834  1728234000           0.000110                0.004627   \n",
      "13835  1728237600           0.000110                0.004627   \n",
      "\n",
      "       utilizationRate_avg  stableBorrowRate_avg      chain currency  \n",
      "0                 0.878280                     0   optimism     WETH  \n",
      "1                 0.878118                     0   optimism     WETH  \n",
      "2                 0.878965                     0   optimism     WETH  \n",
      "3                 0.880024                     0   optimism     WETH  \n",
      "4                 0.880061                     0   optimism     WETH  \n",
      "...                    ...                   ...        ...      ...  \n",
      "13831             0.021102                     0  avalanche     LINK  \n",
      "13832             0.021103                     0  avalanche     LINK  \n",
      "13833             0.021103                     0  avalanche     LINK  \n",
      "13834             0.021103                     0  avalanche     LINK  \n",
      "13835             0.021103                     0  avalanche     LINK  \n",
      "\n",
      "[13836 rows x 7 columns]\n"
     ]
    }
   ],
   "source": [
    "def process_data(dataset_path):\n",
    "  \"\"\"\n",
    "  Processes lending data from a directory structure where folders represent chains and CSV files within each folder represent currencies.\n",
    "\n",
    "  Args:\n",
    "    dataset_path: The path to the root directory of the dataset. (default: ./dataset)\n",
    "\n",
    "  Returns:\n",
    "    A dataframe with columns: timestamp, liquidityRate_avg, variableBorrowRate_avg, utilizationRate_avg, stableBorrowRate_avg, \n",
    "  \"\"\"\n",
    "\n",
    "  all_data = []\n",
    "  for chain in os.listdir(dataset_path):\n",
    "    chain_path = os.path.join(dataset_path, chain)\n",
    "    if os.path.isdir(chain_path):\n",
    "      for filename in os.listdir(chain_path):\n",
    "        if filename.endswith(\".csv\"):\n",
    "          currency = filename[:-4]  # Remove '.csv' extension\n",
    "          filepath = os.path.join(chain_path, filename)\n",
    "          df = pd.read_csv(filepath)\n",
    "          if df.empty: #Check if empty\n",
    "            continue\n",
    "          df['chain'] = chain  # Add chain column\n",
    "          df['currency'] = currency  # Add currency column\n",
    "          all_data.append(df)\n",
    "\n",
    "  return pd.concat(all_data, ignore_index=True)\n",
    "\n",
    "dataset_path = \"./dataset\"  \n",
    "df = process_data(dataset_path)\n",
    "\n",
    "# Sort values by timestap\n",
    "df.sort_values('timestamp')\n",
    "\n",
    "print(df)\n",
    "\n",
    "# Export to a file for further analysis\n",
    "df.to_csv(\"data.csv\")"
   ]
  },
  {
   "cell_type": "code",
   "execution_count": 11,
   "metadata": {},
   "outputs": [
    {
     "name": "stdout",
     "output_type": "stream",
     "text": [
      "                timestamp  liquidityRate_avg  variableBorrowRate_avg  \\\n",
      "0     2024-09-21 22:00:00           0.015056                0.020055   \n",
      "1     2024-09-21 23:00:00           0.023990                0.031854   \n",
      "2     2024-09-22 00:00:00           0.014803                0.019608   \n",
      "3     2024-09-22 01:00:00           0.016902                0.022262   \n",
      "4     2024-09-22 02:00:00           0.014856                0.019768   \n",
      "...                   ...                ...                     ...   \n",
      "13831 2024-10-06 14:00:00           0.000314                0.013196   \n",
      "13832 2024-10-06 15:00:00           0.000110                0.004627   \n",
      "13833 2024-10-06 16:00:00           0.000110                0.004627   \n",
      "13834 2024-10-06 17:00:00           0.000110                0.004627   \n",
      "13835 2024-10-06 18:00:00           0.000110                0.004627   \n",
      "\n",
      "       utilizationRate_avg  stableBorrowRate_avg      chain currency  \\\n",
      "0                 0.878280                     0   optimism     WETH   \n",
      "1                 0.878118                     0   optimism     WETH   \n",
      "2                 0.878965                     0   optimism     WETH   \n",
      "3                 0.880024                     0   optimism     WETH   \n",
      "4                 0.880061                     0   optimism     WETH   \n",
      "...                    ...                   ...        ...      ...   \n",
      "13831             0.021102                     0  avalanche     LINK   \n",
      "13832             0.021103                     0  avalanche     LINK   \n",
      "13833             0.021103                     0  avalanche     LINK   \n",
      "13834             0.021103                     0  avalanche     LINK   \n",
      "13835             0.021103                     0  avalanche     LINK   \n",
      "\n",
      "      formatted_timestamp  \n",
      "0        21/09/2024 22:00  \n",
      "1        21/09/2024 23:00  \n",
      "2        22/09/2024 00:00  \n",
      "3        22/09/2024 01:00  \n",
      "4        22/09/2024 02:00  \n",
      "...                   ...  \n",
      "13831    06/10/2024 14:00  \n",
      "13832    06/10/2024 15:00  \n",
      "13833    06/10/2024 16:00  \n",
      "13834    06/10/2024 17:00  \n",
      "13835    06/10/2024 18:00  \n",
      "\n",
      "[13836 rows x 8 columns]\n"
     ]
    }
   ],
   "source": [
    "# Sort values by timestap\n",
    "df.sort_values('timestamp')\n",
    "\n",
    "# Convert timestamp to datetime objects\n",
    "df['timestamp'] = pd.to_datetime(df['timestamp'], unit='s')\n",
    "\n",
    "# Format timestamp as day/month/year H:M\n",
    "df['formatted_timestamp'] = df['timestamp'].dt.strftime('%d/%m/%Y %H:%M')\n",
    "\n",
    "print(df)"
   ]
  },
  {
   "cell_type": "code",
   "execution_count": null,
   "metadata": {},
   "outputs": [],
   "source": [
    "# For each folder in dataset, open every folder\n"
   ]
  },
  {
   "cell_type": "code",
   "execution_count": null,
   "metadata": {},
   "outputs": [],
   "source": []
  },
  {
   "cell_type": "markdown",
   "metadata": {},
   "source": [
    "Now we are gonna use the "
   ]
  },
  {
   "cell_type": "markdown",
   "metadata": {},
   "source": [
    "The EMA Bearish Crossover is a technical analysis signal that indicates a potential downward trend or selling opportunity. It occurs when a short-term Exponential Moving Average (EMA) crosses below a longer-term EMA. This crossover suggests that the momentum is shifting from bullish (upward) to bearish (downward), which traders often interpret as a sell signal."
   ]
  },
  {
   "cell_type": "code",
   "execution_count": null,
   "metadata": {},
   "outputs": [],
   "source": [
    "#Calculate the short term (10 days) EMA Bearish Crossover "
   ]
  },
  {
   "cell_type": "code",
   "execution_count": null,
   "metadata": {},
   "outputs": [],
   "source": [
    "#Calculate the long term (100 days) EMA Bearish Crossover"
   ]
  },
  {
   "cell_type": "markdown",
   "metadata": {},
   "source": [
    "If the 10-day EMA has crossed below the 100-day EMA, you could interpret it as a potential sell signal.\n",
    "You then check the ADX:\n",
    "-If ADX is above 25, you know the downtrend is strong, confirming the bearish move, and it may be a good opportunity to sell or reduce exposure.\n",
    "-If ADX is below 20, the crossover might not be reliable, and you might decide to wait for more confirmation before acting."
   ]
  },
  {
   "cell_type": "code",
   "execution_count": null,
   "metadata": {},
   "outputs": [],
   "source": [
    "#Calculate the short term (10 days) ADX "
   ]
  },
  {
   "cell_type": "code",
   "execution_count": null,
   "metadata": {},
   "outputs": [],
   "source": [
    "#Calculate the short term (10 days) ADX "
   ]
  }
 ],
 "metadata": {
  "kernelspec": {
   "display_name": ".venv",
   "language": "python",
   "name": "python3"
  },
  "language_info": {
   "codemirror_mode": {
    "name": "ipython",
    "version": 3
   },
   "file_extension": ".py",
   "mimetype": "text/x-python",
   "name": "python",
   "nbconvert_exporter": "python",
   "pygments_lexer": "ipython3",
   "version": "3.12.7"
  }
 },
 "nbformat": 4,
 "nbformat_minor": 2
}
